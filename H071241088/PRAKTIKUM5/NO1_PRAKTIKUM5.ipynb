{
 "cells": [
  {
   "cell_type": "code",
   "execution_count": 1,
   "metadata": {},
   "outputs": [
    {
     "name": "stdout",
     "output_type": "stream",
     "text": [
      "Palindrome\n"
     ]
    }
   ],
   "source": [
    "palindrom = input(\"masukkan kata: \")\n",
    "def Palindrome(s):\n",
    "\n",
    "    if s == s[::]:\n",
    "        print(\"Palindrome\")\n",
    "    else:\n",
    "        print(\"Bukan Palindrome\")\n",
    "        \n",
    "Palindrome(palindrom)\n",
    "\t\t"
   ]
  }
 ],
 "metadata": {
  "kernelspec": {
   "display_name": "Python 3",
   "language": "python",
   "name": "python3"
  },
  "language_info": {
   "codemirror_mode": {
    "name": "ipython",
    "version": 3
   },
   "file_extension": ".py",
   "mimetype": "text/x-python",
   "name": "python",
   "nbconvert_exporter": "python",
   "pygments_lexer": "ipython3",
   "version": "3.12.6"
  }
 },
 "nbformat": 4,
 "nbformat_minor": 2
}
