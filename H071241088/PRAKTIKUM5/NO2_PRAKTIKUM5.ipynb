{
 "cells": [
  {
   "cell_type": "code",
   "execution_count": 1,
   "metadata": {},
   "outputs": [
    {
     "data": {
      "text/plain": [
       "'NKR='"
      ]
     },
     "execution_count": 1,
     "metadata": {},
     "output_type": "execute_result"
    }
   ],
   "source": [
    "input_kalimat = input(\"masukkan kalimat: \")\n",
    "def buat_akronim(kalimat):\n",
    "   \n",
    "    kata_kata = kalimat.split()\n",
    "   \n",
    "    akronim = ''.join(kata[0].upper() for kata in kata_kata)\n",
    "    return akronim\n",
    "\n",
    "buat_akronim(input_kalimat)"
   ]
  }
 ],
 "metadata": {
  "kernelspec": {
   "display_name": "Python 3",
   "language": "python",
   "name": "python3"
  },
  "language_info": {
   "codemirror_mode": {
    "name": "ipython",
    "version": 3
   },
   "file_extension": ".py",
   "mimetype": "text/x-python",
   "name": "python",
   "nbconvert_exporter": "python",
   "pygments_lexer": "ipython3",
   "version": "3.12.6"
  }
 },
 "nbformat": 4,
 "nbformat_minor": 2
}
