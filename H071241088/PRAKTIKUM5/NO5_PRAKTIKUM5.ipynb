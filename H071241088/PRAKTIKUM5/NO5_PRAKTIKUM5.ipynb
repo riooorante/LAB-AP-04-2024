{
 "cells": [
  {
   "cell_type": "code",
   "execution_count": 7,
   "metadata": {},
   "outputs": [
    {
     "name": "stdout",
     "output_type": "stream",
     "text": [
      "Text   : abc\n",
      "Shift  : 2\n",
      "Cipher : cde\n",
      "CPU times: total: 15.6 ms\n",
      "Wall time: 1.19 ms\n"
     ]
    }
   ],
   "source": [
    "\n",
    "text = input(\"Masukkan text : \")\n",
    "shift = int(input(\"Masukkan jumlah pergeseran : \"))\n",
    "\n",
    "def caesar_cipher(text, shift):\n",
    "    enskripsi_text = \"\"\n",
    "    \n",
    "    for char in text:\n",
    "\n",
    "        if char.islower():\n",
    "            enskripsi_text += chr((ord(char) - ord('a') + shift) % 26 + ord('a'))\n",
    "\n",
    "        elif char.isupper():\n",
    "            enskripsi_text += chr((ord(char) - ord('A') + shift) % 26 + ord('A'))\n",
    "\n",
    "        else:\n",
    "            enskripsi_text += char\n",
    "    \n",
    "    return enskripsi_text\n",
    "\n",
    "\n",
    "print(f\"Text   : {text}\")\n",
    "print(f\"Shift  : {shift}\")\n",
    "print(f\"Cipher : {caesar_cipher(text, shift)}\")\n"
   ]
  }
 ],
 "metadata": {
  "kernelspec": {
   "display_name": "Python 3",
   "language": "python",
   "name": "python3"
  },
  "language_info": {
   "codemirror_mode": {
    "name": "ipython",
    "version": 3
   },
   "file_extension": ".py",
   "mimetype": "text/x-python",
   "name": "python",
   "nbconvert_exporter": "python",
   "pygments_lexer": "ipython3",
   "version": "3.12.6"
  }
 },
 "nbformat": 4,
 "nbformat_minor": 2
}
