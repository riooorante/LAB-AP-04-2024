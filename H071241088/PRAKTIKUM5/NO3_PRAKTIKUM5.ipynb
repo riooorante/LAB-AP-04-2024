{
 "cells": [
  {
   "cell_type": "code",
   "execution_count": 2,
   "metadata": {},
   "outputs": [
    {
     "name": "stdout",
     "output_type": "stream",
     "text": [
      "Jumlah minimum penghapusan untuk membuat anagram: 4\n"
     ]
    }
   ],
   "source": [
    "from collections import Counter\n",
    "\n",
    "s1 = input(\"Masukkan string pertama: \")\n",
    "s2 = input(\"Masukkan string kedua: \")\n",
    "\n",
    "def buat_anagram(s1, s2):\n",
    "\n",
    "    freq_s1 = Counter(s1)  \n",
    "    freq_s2 = Counter(s2) \n",
    "    \n",
    "    deletions = 0\n",
    "    \n",
    "    all_chars = set(freq_s1.keys()).union(set(freq_s2.keys()))\n",
    "    \n",
    "    for char in all_chars:\n",
    "        count_s1 = freq_s1.get(char, 0)\n",
    "        count_s2 = freq_s2.get(char, 0)\n",
    "        deletions += abs(count_s1 - count_s2)\n",
    "\n",
    "    return deletions\n",
    "\n",
    "result = buat_anagram(s1, s2)\n",
    "print(\"Jumlah minimum penghapusan untuk membuat anagram:\", result)\n"
   ]
  }
 ],
 "metadata": {
  "kernelspec": {
   "display_name": "Python 3",
   "language": "python",
   "name": "python3"
  },
  "language_info": {
   "codemirror_mode": {
    "name": "ipython",
    "version": 3
   },
   "file_extension": ".py",
   "mimetype": "text/x-python",
   "name": "python",
   "nbconvert_exporter": "python",
   "pygments_lexer": "ipython3",
   "version": "3.12.6"
  }
 },
 "nbformat": 4,
 "nbformat_minor": 2
}
